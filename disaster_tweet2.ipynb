{
 "cells": [
  {
   "cell_type": "code",
   "execution_count": 107,
   "id": "93192348",
   "metadata": {},
   "outputs": [],
   "source": [
    "import numpy as np\n",
    "import pandas as pd\n",
    "from sklearn.model_selection import train_test_split\n",
    "import torch\n",
    "import torch.nn as nn\n",
    "from torch.utils.data import Dataset, DataLoader\n",
    "from torchtext.data.utils import get_tokenizer\n",
    "from torchtext.vocab import build_vocab_from_iterator\n",
    "import torchtext\n",
    "import re\n",
    "import string\n",
    "import tqdm\n",
    "import matplotlib.pyplot as plt\n",
    "# https://github.com/rsreetech/PyTorchTextClassificationCustomDataset/blob/main/PyTorchTweetTextClassification.ipynb\n",
    "\n",
    "from torcheval.metrics import BinaryAccuracy\n"
   ]
  },
  {
   "cell_type": "code",
   "execution_count": 108,
   "id": "33e722f4",
   "metadata": {},
   "outputs": [],
   "source": [
    "devise = \"cpu\""
   ]
  },
  {
   "cell_type": "code",
   "execution_count": 109,
   "id": "d1ae24dd",
   "metadata": {},
   "outputs": [],
   "source": [
    "from nltk.corpus import stopwords\n",
    "from nltk.stem import PorterStemmer\n",
    "from nltk.tokenize import TweetTokenizer\n",
    "\n",
    "\n",
    "def process_tweet(tweet):\n",
    "    '''\n",
    "    Input:\n",
    "        tweet: a string containing a tweet\n",
    "    Output:\n",
    "        tweets_clean: a list of words containing the processed tweet\n",
    "\n",
    "    '''\n",
    "    stemmer = PorterStemmer()\n",
    "    stopwords_english = stopwords.words('english')\n",
    "    # remove stock market tickers like $GE\n",
    "    tweet = re.sub(r'\\$\\w*', '', tweet)\n",
    "    # remove old style retweet text \"RT\"\n",
    "    tweet = re.sub(r'^RT[\\s]+', '', tweet)\n",
    "    # remove hyperlinks\n",
    "    #tweet = re.sub(r'https?:\\/\\/.*[\\r\\n]*', '', tweet)\n",
    "    tweet = re.sub(r'https?://[^\\s\\n\\r]+', '', tweet)\n",
    "    # remove hashtags\n",
    "    # only removing the hash # sign from the word\n",
    "    tweet = re.sub(r'#', '', tweet)\n",
    "    # tokenize tweets\n",
    "    tokenizer = TweetTokenizer(preserve_case=False, strip_handles=True,\n",
    "                               reduce_len=True)\n",
    "    tweet_tokens = tokenizer.tokenize(tweet)\n",
    "\n",
    "    tweets_clean = []\n",
    "    for word in tweet_tokens:\n",
    "        if (word not in stopwords_english and  # remove stopwords\n",
    "            word not in string.punctuation):  # remove punctuation\n",
    "            # tweets_clean.append(word)\n",
    "            stem_word = stemmer.stem(word)  # stemming word\n",
    "            tweets_clean.append(stem_word)\n",
    "\n",
    "    return tweets_clean"
   ]
  },
  {
   "cell_type": "code",
   "execution_count": 110,
   "id": "06bc67bd",
   "metadata": {},
   "outputs": [
    {
     "data": {
      "text/plain": [
       "['hello', 'taisti']"
      ]
     },
     "execution_count": 110,
     "metadata": {},
     "output_type": "execute_result"
    }
   ],
   "source": [
    "process_tweet(\"hello how do you taisty\")"
   ]
  },
  {
   "cell_type": "code",
   "execution_count": 111,
   "id": "bb48b3a9",
   "metadata": {},
   "outputs": [],
   "source": [
    "# def remove_url(text): \n",
    "#     url_pattern  = re.compile('http[s]?://(?:[a-zA-Z]|[0-9]|[$-_@.&+]|[!*\\(\\),]|(?:%[0-9a-fA-F][0-9a-fA-F]))+')\n",
    "#     return url_pattern.sub(r'', text)\n",
    "\n",
    "# def remove_emoji(text):\n",
    "#     emoji_pattern = re.compile(\"[\"\n",
    "#                            u\"\\U0001F600-\\U0001F64F\"  # emoticons\n",
    "#                            u\"\\U0001F300-\\U0001F5FF\"  # symbols & pictographs\n",
    "#                            u\"\\U0001F680-\\U0001F6FF\"  # transport & map symbols\n",
    "#                            u\"\\U0001F1E0-\\U0001F1FF\"  # flags (iOS)\n",
    "#                            u\"\\U00002702-\\U000027B0\"\n",
    "#                            u\"\\U000024C2-\\U0001F251\"\n",
    "#                            \"]+\", flags=re.UNICODE)\n",
    "#     return emoji_pattern.sub(r'', text)\n",
    "\n",
    "# def clean_text(text ): \n",
    "#     delete_dict = {sp_character: '' for sp_character in string.punctuation} \n",
    "#     delete_dict[' '] = ' ' \n",
    "#     table = str.maketrans(delete_dict)\n",
    "#     text1 = text.translate(table)\n",
    "#     textArr= text1.split()\n",
    "#     text2 = ' '.join([w for w in textArr if ( not w.isdigit() and  ( not w.isdigit() and len(w)>2))]) \n",
    "    \n",
    "#     return text2.lower()"
   ]
  },
  {
   "cell_type": "markdown",
   "id": "aac38224",
   "metadata": {},
   "source": [
    "# Dataset"
   ]
  },
  {
   "cell_type": "code",
   "execution_count": 112,
   "id": "ffa9b6e7",
   "metadata": {},
   "outputs": [],
   "source": [
    "class MyDataset(Dataset):\n",
    "    def __init__(self, data, name=\"dataset\") -> None:\n",
    "        super().__init__()\n",
    "        self.name = name\n",
    "        text, target = data\n",
    "        self.text = np.array(text)\n",
    "        self.n_samples = len(self.text)\n",
    "        if target:\n",
    "            self.target = np.array(target)\n",
    "        else:\n",
    "            self.target = (-1) * np.ones(self.n_samples, dtype=np.int32)\n",
    "\n",
    "    def __getitem__(self, index):\n",
    "        return (self.text[index], self.target[index])\n",
    "    \n",
    "    def __len__(self):\n",
    "        return self.n_samples\n",
    "    \n",
    "    def get_stats(self):\n",
    "        print('--------------------')\n",
    "        print(self.name)\n",
    "        for val, nb in np.array(np.unique(self.target , return_counts=True)).T:\n",
    "            print(f\"{val}   {nb}\")\n",
    "        print('--------------------')\n"
   ]
  },
  {
   "cell_type": "code",
   "execution_count": 113,
   "id": "fad1976d",
   "metadata": {},
   "outputs": [],
   "source": [
    "def splitTrainVal(path, valid_size):\n",
    "    df = pd.read_csv(path)\n",
    "    df.drop(columns=[\"id\", \"keyword\", \"location\"], inplace=True)\n",
    "    # df[\"text\"] = df[\"text\"].apply(remove_url)\n",
    "    # df[\"text\"] = df[\"text\"].apply(remove_emoji)\n",
    "    # df[\"text\"] = df[\"text\"].apply(clean_text)\n",
    "\n",
    "    (X_train, X_valid,\n",
    "        Y_train, Y_valid) = train_test_split(df['text'].to_list(),\n",
    "                                            df['target'].to_list(),\n",
    "                                            test_size=valid_size,\n",
    "                                            shuffle=True,\n",
    "                                            stratify = df['target'].to_list(),\n",
    "                                            random_state=0)\n",
    "    return (X_train, X_valid, Y_train, Y_valid)"
   ]
  },
  {
   "cell_type": "code",
   "execution_count": 114,
   "id": "118cc5be",
   "metadata": {},
   "outputs": [],
   "source": [
    "# Train et Val\n",
    "X_train, X_valid, Y_train, Y_valid = splitTrainVal(\"data/train.csv\", 0.2)\n",
    "train_dataset = MyDataset((X_train, Y_train), name=\"Train\")\n",
    "val_dataset = MyDataset((X_valid, Y_valid), name=\"Val\")\n",
    "\n",
    "# Test\n",
    "df_test = pd.read_csv(\"data/test.csv\")\n",
    "df_test.drop(columns=[\"id\", \"keyword\", \"location\"], inplace=True)\n",
    "# df_test[\"text\"] = df_test[\"text\"].apply(remove_url)\n",
    "# df_test[\"text\"] = df_test[\"text\"].apply(remove_emoji)\n",
    "# df_test[\"text\"] = df_test[\"text\"].apply(clean_text)\n",
    "test_dataset = MyDataset((df_test[\"text\"].to_list(), None), name=\"Test\")\n"
   ]
  },
  {
   "cell_type": "code",
   "execution_count": 115,
   "id": "f24d125a",
   "metadata": {},
   "outputs": [
    {
     "name": "stdout",
     "output_type": "stream",
     "text": [
      "--------------------\n",
      "Train\n",
      "0   3473\n",
      "1   2617\n",
      "--------------------\n",
      "--------------------\n",
      "Val\n",
      "0   869\n",
      "1   654\n",
      "--------------------\n",
      "--------------------\n",
      "Test\n",
      "-1   3263\n",
      "--------------------\n"
     ]
    }
   ],
   "source": [
    "train_dataset.get_stats()\n",
    "val_dataset.get_stats()\n",
    "test_dataset.get_stats()"
   ]
  },
  {
   "cell_type": "markdown",
   "id": "0df8943e",
   "metadata": {},
   "source": [
    "# Tokenisation"
   ]
  },
  {
   "cell_type": "code",
   "execution_count": 118,
   "id": "e8ae1e18",
   "metadata": {},
   "outputs": [],
   "source": [
    "# tokenizer = get_tokenizer('basic_english')\n",
    "\n",
    "def yield_tokens(data_iter):\n",
    "    for text, _ in data_iter:\n",
    "        yield process_tweet(text)\n",
    "\n",
    "vocab = build_vocab_from_iterator(yield_tokens(train_dataset), specials=[\"<unk>\"])\n",
    "vocab.set_default_index(vocab[\"<unk>\"])\n",
    "\n",
    "text_pipeline = lambda x: vocab(process_tweet(x))\n",
    "label_pipeline = lambda x: int(x)"
   ]
  },
  {
   "cell_type": "code",
   "execution_count": 119,
   "id": "98741ec6",
   "metadata": {},
   "outputs": [
    {
     "data": {
      "text/plain": [
       "10972"
      ]
     },
     "execution_count": 119,
     "metadata": {},
     "output_type": "execute_result"
    }
   ],
   "source": [
    "len(vocab)"
   ]
  },
  {
   "cell_type": "markdown",
   "id": "95c25fb8",
   "metadata": {},
   "source": [
    "Le vocabulaire est trop grand. Besoin de plus adapter les phrases. Retirer les stop word, prendre la racine ===> Voir comment ca a ete fait dans les premiers days de formation NPL"
   ]
  },
  {
   "cell_type": "code",
   "execution_count": 120,
   "id": "d5499ff4",
   "metadata": {},
   "outputs": [],
   "source": [
    "def tokeniseDataset(sentenses, tokenizer):\n",
    "    return [tokenizer(sentense) for sentense in sentenses]\n",
    "\n",
    "\n",
    "def getMaxLenTweet(sentenses, tokenizer):\n",
    "    text_tokenised = tokeniseDataset(sentenses, tokenizer)\n",
    "    return max(len(txt) for txt in text_tokenised)\n",
    "\n",
    "\n",
    "def transformSenToIntMat(sentenses, tokenizer, vocab, max_num_token):\n",
    "    text_tokenised = tokeniseDataset(sentenses, tokenizer)\n",
    "    vocab_list = [vocab(text) for text in text_tokenised]\n",
    "    return np.array([sous_liste + [0] * (max_num_token - len(sous_liste)) for sous_liste in vocab_list], dtype=np.int32)"
   ]
  },
  {
   "cell_type": "code",
   "execution_count": 121,
   "id": "4422323c",
   "metadata": {},
   "outputs": [
    {
     "name": "stdout",
     "output_type": "stream",
     "text": [
      "Our data set (train and test) has 29 tokens max. This will be the shape of the text vector\n"
     ]
    }
   ],
   "source": [
    "# Get the size of the input feature vector \n",
    "nb_features = max(\n",
    "    getMaxLenTweet(train_dataset.text, process_tweet),\n",
    "    getMaxLenTweet(val_dataset.text, process_tweet),\n",
    "    getMaxLenTweet(test_dataset.text, process_tweet))\n",
    "\n",
    "print(f\"Our data set (train and test) has {nb_features} tokens max. This will be the shape of the text vector\")"
   ]
  },
  {
   "cell_type": "markdown",
   "id": "7fad13f4",
   "metadata": {},
   "source": [
    "# Dataloader"
   ]
  },
  {
   "cell_type": "code",
   "execution_count": 12,
   "id": "6e044aea",
   "metadata": {},
   "outputs": [],
   "source": [
    "def collate_batch(batch): # batch est une list de tuple Text label\n",
    "    sentenses = [elem[0] for elem in batch]\n",
    "    sentenses_mat = torch.from_numpy(transformSenToIntMat(sentenses, process_tweet, vocab, nb_features))\n",
    "    label = torch.from_numpy(np.array([elem[1] for elem in batch]).reshape(len(sentenses), 1))\n",
    "    return sentenses_mat, label"
   ]
  },
  {
   "cell_type": "code",
   "execution_count": 13,
   "id": "463a3ecd",
   "metadata": {},
   "outputs": [],
   "source": [
    "dataloader = DataLoader(dataset=train_dataset, batch_size=32, shuffle=True, collate_fn=collate_batch)"
   ]
  },
  {
   "cell_type": "code",
   "execution_count": 14,
   "id": "e9613409",
   "metadata": {},
   "outputs": [],
   "source": [
    "val_dataloader = DataLoader(dataset=val_dataset, batch_size=32, shuffle=True, collate_fn=collate_batch)"
   ]
  },
  {
   "cell_type": "markdown",
   "id": "cc1d8348",
   "metadata": {},
   "source": [
    "# Model"
   ]
  },
  {
   "cell_type": "code",
   "execution_count": 89,
   "id": "5758d539",
   "metadata": {},
   "outputs": [],
   "source": [
    "class MyModel(nn.Module):\n",
    "    def __init__(self, vocab_size, hidden_size=8, embedding_size=32, num_layers=1, dense_dim=16, num_class=1):\n",
    "        super(MyModel, self).__init__()\n",
    "        self.vocab_size = vocab_size\n",
    "        self.hidden_size = hidden_size\n",
    "        self.embedding_size = embedding_size\n",
    "        self.num_layers = num_layers\n",
    "        self.dense_dim = dense_dim\n",
    "        self.num_class = num_class\n",
    "        self.embedding = nn.Embedding(vocab_size, embedding_size)\n",
    "        self.rnn = nn.RNN(embedding_size, hidden_size, num_layers, batch_first=True) #batch first = True veut dire que la shape de l'input est (batch_size, seq, input_size)\n",
    "        # self.dense1 = nn.Linear(hidden_size, dense_dim)\n",
    "        self.dense2 = nn.Linear(hidden_size, num_class)\n",
    "\n",
    "    def forward(self,x, h_0=None):\n",
    "        \"\"\"\n",
    "        Run the forward pass\n",
    "\n",
    "        Parameters : \n",
    "            x : torch.tensor. Shape (n_sample, input_size)\n",
    "            h_0 : torch.tensor ou None.\n",
    "                Initial Hidden state of the RRN.\n",
    "        Return : \n",
    "            output : torch.tensor (batch size, Sequence Lenght, hidden_size)\n",
    "            h_n : torch.tensor final hidden state for each element in the batch\n",
    "        \"\"\"\n",
    "        emb = self.embedding(x)\n",
    "        if h_0 is not None:\n",
    "            _, h = self.rnn(emb, h_0)\n",
    "        else:\n",
    "            _, h = self.rnn(emb)\n",
    "        h_mean = h.mean(dim=0)\n",
    "        # result_dense1 = nn.functional.sigmoid(self.dense1(h_mean))\n",
    "        result_final = nn.functional.sigmoid(self.dense2(h_mean))\n",
    "        return result_final\n",
    "\n",
    "\n",
    "def compute_loss(loss, model, dataloader):\n",
    "    \"\"\"Compute average loss over a dataset\"\"\"\n",
    "    model.eval()\n",
    "    all_losses = []\n",
    "    for X_batch, y_batch in dataloader:\n",
    "        probs = model(X_batch)\n",
    "        # print(probs.shape)\n",
    "        y_batch = y_batch.type(torch.float32)\n",
    "        # y_batch = nn.functional.one_hot(y_batch.squeeze().long(), num_classes=2).float()\n",
    "        all_losses.append(loss(probs, y_batch).item())\n",
    "    return np.mean(all_losses)"
   ]
  },
  {
   "cell_type": "code",
   "execution_count": 90,
   "id": "f0ed21e9",
   "metadata": {},
   "outputs": [],
   "source": [
    "model = MyModel(len(vocab))"
   ]
  },
  {
   "cell_type": "code",
   "execution_count": 91,
   "id": "91ebcd0e",
   "metadata": {},
   "outputs": [],
   "source": [
    "loss_fn = nn.BCELoss()\n",
    "metric = BinaryAccuracy()\n",
    "optimizer = torch.optim.Adam(model.parameters(), lr=1e-3)\n",
    "n_epochs = 100"
   ]
  },
  {
   "cell_type": "code",
   "execution_count": 92,
   "id": "e506ab2c",
   "metadata": {},
   "outputs": [
    {
     "data": {
      "text/plain": [
       "0.6902874495970641"
      ]
     },
     "execution_count": 92,
     "metadata": {},
     "output_type": "execute_result"
    }
   ],
   "source": [
    "compute_loss(loss_fn, model, dataloader)"
   ]
  },
  {
   "cell_type": "code",
   "execution_count": 93,
   "id": "bca922b0",
   "metadata": {},
   "outputs": [],
   "source": [
    "def calculate_acc(metric, model, dataloader):\n",
    "    model.eval()\n",
    "    true = []\n",
    "    total_num = []\n",
    "    for X_batch, y_batch in dataloader:\n",
    "        probs = model(X_batch)\n",
    "        y_hat = torch.argmax(probs, dim=1)\n",
    "        y_batch = torch.reshape(y_batch, (y_batch.shape[0],))\n",
    "        test = y_hat == y_batch\n",
    "        true.append(sum(test))\n",
    "        total_num.append(len(y_batch))\n",
    "    acc = (sum(true) / sum(total_num)) * 100\n",
    "    return acc\n"
   ]
  },
  {
   "cell_type": "code",
   "execution_count": 94,
   "id": "98d7e7d7",
   "metadata": {},
   "outputs": [],
   "source": [
    "train_loss_history = []\n",
    "val_loss_history = []\n",
    "acc_train_history = []\n",
    "acc_val_history = []\n"
   ]
  },
  {
   "cell_type": "code",
   "execution_count": 95,
   "id": "19ba6940",
   "metadata": {},
   "outputs": [
    {
     "name": "stdout",
     "output_type": "stream",
     "text": [
      "Epoch: 0, train_loss=0.683341, val_los=0.682815, acc_train=57.027912, acc_val=57.058437 \n",
      "Epoch: 1, train_loss=0.683309, val_los=0.683772, acc_train=57.027912, acc_val=57.058437 \n",
      "Epoch: 2, train_loss=0.683692, val_los=0.684087, acc_train=57.027912, acc_val=57.058437 \n",
      "Epoch: 3, train_loss=0.683209, val_los=0.683515, acc_train=57.027912, acc_val=57.058437 \n",
      "Epoch: 4, train_loss=0.684048, val_los=0.684601, acc_train=57.027912, acc_val=57.058437 \n",
      "Epoch: 5, train_loss=0.683992, val_los=0.683765, acc_train=57.027912, acc_val=57.058437 \n",
      "Epoch: 6, train_loss=0.683567, val_los=0.684357, acc_train=57.027912, acc_val=57.058437 \n",
      "Epoch: 7, train_loss=0.683107, val_los=0.682883, acc_train=57.027912, acc_val=57.058437 \n",
      "Epoch: 8, train_loss=0.683472, val_los=0.683711, acc_train=57.027912, acc_val=57.058437 \n",
      "Epoch: 9, train_loss=0.683347, val_los=0.683402, acc_train=57.027912, acc_val=57.058437 \n",
      "Epoch: 10, train_loss=0.683304, val_los=0.683122, acc_train=57.027912, acc_val=57.058437 \n",
      "Epoch: 11, train_loss=0.683364, val_los=0.682850, acc_train=57.027912, acc_val=57.058437 \n",
      "Epoch: 12, train_loss=0.683413, val_los=0.682871, acc_train=57.027912, acc_val=57.058437 \n",
      "Epoch: 13, train_loss=0.683356, val_los=0.683192, acc_train=57.027912, acc_val=57.058437 \n",
      "Epoch: 14, train_loss=0.683731, val_los=0.683792, acc_train=57.027912, acc_val=57.058437 \n",
      "Epoch: 15, train_loss=0.683186, val_los=0.683214, acc_train=57.027912, acc_val=57.058437 \n",
      "Epoch: 16, train_loss=0.683218, val_los=0.682780, acc_train=57.027912, acc_val=57.058437 \n",
      "Epoch: 17, train_loss=0.683175, val_los=0.682789, acc_train=57.027912, acc_val=57.058437 \n",
      "Epoch: 18, train_loss=0.683005, val_los=0.683007, acc_train=57.027912, acc_val=57.058437 \n",
      "Epoch: 19, train_loss=0.683306, val_los=0.682876, acc_train=57.027912, acc_val=57.058437 \n",
      "Epoch: 20, train_loss=0.683380, val_los=0.683460, acc_train=57.027912, acc_val=57.058437 \n",
      "Epoch: 21, train_loss=0.683332, val_los=0.683013, acc_train=57.027912, acc_val=57.058437 \n",
      "Epoch: 22, train_loss=0.683423, val_los=0.683394, acc_train=57.027912, acc_val=57.058437 \n",
      "Epoch: 23, train_loss=0.683206, val_los=0.683128, acc_train=57.027912, acc_val=57.058437 \n",
      "Epoch: 24, train_loss=0.683209, val_los=0.683002, acc_train=57.027912, acc_val=57.058437 \n",
      "Epoch: 25, train_loss=0.683139, val_los=0.682897, acc_train=57.027912, acc_val=57.058437 \n",
      "Epoch: 26, train_loss=0.683409, val_los=0.683254, acc_train=57.027912, acc_val=57.058437 \n",
      "Epoch: 27, train_loss=0.683310, val_los=0.682891, acc_train=57.027912, acc_val=57.058437 \n",
      "Epoch: 28, train_loss=0.683204, val_los=0.683254, acc_train=57.027912, acc_val=57.058437 \n",
      "Epoch: 29, train_loss=0.683041, val_los=0.683449, acc_train=57.027912, acc_val=57.058437 \n",
      "Epoch: 30, train_loss=0.683420, val_los=0.683652, acc_train=57.027912, acc_val=57.058437 \n",
      "Epoch: 31, train_loss=0.683101, val_los=0.683512, acc_train=57.027912, acc_val=57.058437 \n",
      "Epoch: 32, train_loss=0.683351, val_los=0.682894, acc_train=57.027912, acc_val=57.058437 \n",
      "Epoch: 33, train_loss=0.683008, val_los=0.683013, acc_train=57.027912, acc_val=57.058437 \n",
      "Epoch: 34, train_loss=0.683097, val_los=0.683378, acc_train=57.027912, acc_val=57.058437 \n",
      "Epoch: 35, train_loss=0.683493, val_los=0.683377, acc_train=57.027912, acc_val=57.058437 \n",
      "Epoch: 36, train_loss=0.682976, val_los=0.683178, acc_train=57.027912, acc_val=57.058437 \n",
      "Epoch: 37, train_loss=0.670388, val_los=0.682429, acc_train=57.027912, acc_val=57.058437 \n",
      "Epoch: 38, train_loss=0.650313, val_los=0.691895, acc_train=57.027912, acc_val=57.058437 \n",
      "Epoch: 39, train_loss=0.630371, val_los=0.701383, acc_train=57.027912, acc_val=57.058437 \n",
      "Epoch: 40, train_loss=0.619403, val_los=0.692376, acc_train=57.027912, acc_val=57.058437 \n",
      "Epoch: 41, train_loss=0.603823, val_los=0.700348, acc_train=57.027912, acc_val=57.058437 \n",
      "Epoch: 42, train_loss=0.590343, val_los=0.708884, acc_train=57.027912, acc_val=57.058437 \n",
      "Epoch: 43, train_loss=0.586943, val_los=0.721072, acc_train=57.027912, acc_val=57.058437 \n",
      "Epoch: 44, train_loss=0.580728, val_los=0.722726, acc_train=57.027912, acc_val=57.058437 \n",
      "Epoch: 45, train_loss=0.558409, val_los=0.727987, acc_train=57.027912, acc_val=57.058437 \n",
      "Epoch: 46, train_loss=0.542131, val_los=0.733350, acc_train=57.027912, acc_val=57.058437 \n",
      "Epoch: 47, train_loss=0.531402, val_los=0.747030, acc_train=57.027912, acc_val=57.058437 \n",
      "Epoch: 48, train_loss=0.509914, val_los=0.766407, acc_train=57.027912, acc_val=57.058437 \n",
      "Epoch: 49, train_loss=0.487391, val_los=0.776770, acc_train=57.027912, acc_val=57.058437 \n",
      "Epoch: 50, train_loss=0.471044, val_los=0.787474, acc_train=57.027912, acc_val=57.058437 \n",
      "Epoch: 51, train_loss=0.457371, val_los=0.810320, acc_train=57.027912, acc_val=57.058437 \n",
      "Epoch: 52, train_loss=0.439130, val_los=0.825604, acc_train=57.027912, acc_val=57.058437 \n",
      "Epoch: 53, train_loss=0.429790, val_los=0.832074, acc_train=57.027912, acc_val=57.058437 \n",
      "Epoch: 54, train_loss=0.416208, val_los=0.844932, acc_train=57.027912, acc_val=57.058437 \n",
      "Epoch: 55, train_loss=0.401541, val_los=0.855101, acc_train=57.027912, acc_val=57.058437 \n",
      "Epoch: 56, train_loss=0.391358, val_los=0.867819, acc_train=57.027912, acc_val=57.058437 \n",
      "Epoch: 57, train_loss=0.377024, val_los=0.877776, acc_train=57.027912, acc_val=57.058437 \n",
      "Epoch: 58, train_loss=0.364555, val_los=0.895041, acc_train=57.027912, acc_val=57.058437 \n",
      "Epoch: 59, train_loss=0.354510, val_los=0.906840, acc_train=57.027912, acc_val=57.058437 \n",
      "Epoch: 60, train_loss=0.346385, val_los=0.915073, acc_train=57.027912, acc_val=57.058437 \n",
      "Epoch: 61, train_loss=0.340259, val_los=0.929774, acc_train=57.027912, acc_val=57.058437 \n",
      "Epoch: 62, train_loss=0.328993, val_los=0.941494, acc_train=57.027912, acc_val=57.058437 \n",
      "Epoch: 63, train_loss=0.325415, val_los=0.944894, acc_train=57.027912, acc_val=57.058437 \n",
      "Epoch: 64, train_loss=0.314746, val_los=0.951368, acc_train=57.027912, acc_val=57.058437 \n",
      "Epoch: 65, train_loss=0.302502, val_los=0.963655, acc_train=57.027912, acc_val=57.058437 \n",
      "Epoch: 66, train_loss=0.304203, val_los=0.959387, acc_train=57.027912, acc_val=57.058437 \n",
      "Epoch: 67, train_loss=0.293421, val_los=0.969410, acc_train=57.027912, acc_val=57.058437 \n",
      "Epoch: 68, train_loss=0.284620, val_los=0.973644, acc_train=57.027912, acc_val=57.058437 \n",
      "Epoch: 69, train_loss=0.278429, val_los=0.991338, acc_train=57.027912, acc_val=57.058437 \n",
      "Epoch: 70, train_loss=0.286443, val_los=1.000607, acc_train=57.027912, acc_val=57.058437 \n",
      "Epoch: 71, train_loss=0.270144, val_los=1.016704, acc_train=57.027912, acc_val=57.058437 \n",
      "Epoch: 72, train_loss=0.259066, val_los=1.024326, acc_train=57.027912, acc_val=57.058437 \n",
      "Epoch: 73, train_loss=0.258017, val_los=1.019601, acc_train=57.027912, acc_val=57.058437 \n",
      "Epoch: 74, train_loss=0.249380, val_los=1.044592, acc_train=57.027912, acc_val=57.058437 \n",
      "Epoch: 75, train_loss=0.268849, val_los=1.023343, acc_train=57.027912, acc_val=57.058437 \n",
      "Epoch: 76, train_loss=0.245699, val_los=1.032669, acc_train=57.027912, acc_val=57.058437 \n",
      "Epoch: 77, train_loss=0.233630, val_los=1.051572, acc_train=57.027912, acc_val=57.058437 \n",
      "Epoch: 78, train_loss=0.225606, val_los=1.039490, acc_train=57.027912, acc_val=57.058437 \n",
      "Epoch: 79, train_loss=0.217434, val_los=1.061378, acc_train=57.027912, acc_val=57.058437 \n",
      "Epoch: 80, train_loss=0.212883, val_los=1.092727, acc_train=57.027912, acc_val=57.058437 \n",
      "Epoch: 81, train_loss=0.203811, val_los=1.093686, acc_train=57.027912, acc_val=57.058437 \n",
      "Epoch: 82, train_loss=0.198264, val_los=1.104841, acc_train=57.027912, acc_val=57.058437 \n",
      "Epoch: 83, train_loss=0.199715, val_los=1.136713, acc_train=57.027912, acc_val=57.058437 \n",
      "Epoch: 84, train_loss=0.193110, val_los=1.124346, acc_train=57.027912, acc_val=57.058437 \n",
      "Epoch: 85, train_loss=0.186591, val_los=1.132043, acc_train=57.027912, acc_val=57.058437 \n",
      "Epoch: 86, train_loss=0.191270, val_los=1.164056, acc_train=57.027912, acc_val=57.058437 \n",
      "Epoch: 87, train_loss=0.176693, val_los=1.125596, acc_train=57.027912, acc_val=57.058437 \n",
      "Epoch: 88, train_loss=0.170224, val_los=1.138724, acc_train=57.027912, acc_val=57.058437 \n",
      "Epoch: 89, train_loss=0.164057, val_los=1.164829, acc_train=57.027912, acc_val=57.058437 \n",
      "Epoch: 90, train_loss=0.161473, val_los=1.156642, acc_train=57.027912, acc_val=57.058437 \n",
      "Epoch: 91, train_loss=0.159669, val_los=1.179338, acc_train=57.027912, acc_val=57.058437 \n",
      "Epoch: 92, train_loss=0.167426, val_los=1.148839, acc_train=57.027912, acc_val=57.058437 \n",
      "Epoch: 93, train_loss=0.155561, val_los=1.186609, acc_train=57.027912, acc_val=57.058437 \n",
      "Epoch: 94, train_loss=0.145443, val_los=1.196466, acc_train=57.027912, acc_val=57.058437 \n",
      "Epoch: 95, train_loss=0.152096, val_los=1.217474, acc_train=57.027912, acc_val=57.058437 \n",
      "Epoch: 96, train_loss=0.163946, val_los=1.208621, acc_train=57.027912, acc_val=57.058437 \n",
      "Epoch: 97, train_loss=0.135838, val_los=1.205113, acc_train=57.027912, acc_val=57.058437 \n",
      "Epoch: 98, train_loss=0.132393, val_los=1.240371, acc_train=57.027912, acc_val=57.058437 \n",
      "Epoch: 99, train_loss=0.124834, val_los=1.223435, acc_train=57.027912, acc_val=57.058437 \n"
     ]
    }
   ],
   "source": [
    "for epoch in range(n_epochs):\n",
    "    model.train()\n",
    "    for  idx, ( X_batch, y_batch) in enumerate(dataloader):\n",
    "        optimizer.zero_grad()\n",
    "        probs = model(X_batch)\n",
    "        y_batch = y_batch.type(torch.float32)\n",
    "        loss = loss_fn(probs, y_batch)\n",
    "        loss.backward()\n",
    "        optimizer.step()\n",
    "    train_loss = compute_loss(loss_fn, model, dataloader)\n",
    "    val_los = compute_loss(loss_fn, model, val_dataloader)\n",
    "    acc_train = calculate_acc(metric, model, dataloader)\n",
    "    acc_val = calculate_acc(metric, model, val_dataloader)\n",
    "    train_loss_history.append(train_loss)\n",
    "    val_loss_history.append(val_los)\n",
    "    acc_train_history.append(acc_train)\n",
    "    acc_val_history.append(acc_val)\n",
    "    print(f\"Epoch: {epoch}, {train_loss=:.6f}, {val_los=:.6f}, {acc_train=:.6f}, {acc_val=:.6f} \")"
   ]
  },
  {
   "cell_type": "code",
   "execution_count": 96,
   "id": "a8517abc",
   "metadata": {},
   "outputs": [
    {
     "data": {
      "image/png": "[encoded data removed]",
      "text/plain": [
       "<Figure size 1300x700 with 1 Axes>"
      ]
     },
     "metadata": {},
     "output_type": "display_data"
    }
   ],
   "source": [
    "x = range(len(train_loss_history))\n",
    "train_loss_history_round = np.round(train_loss_history, 3)\n",
    "val_loss_history_round = np.round(val_loss_history, 3)\n",
    "\n",
    "plt.figure(figsize=(13, 7))\n",
    "plt.subplot(1, 2, 1)\n",
    "plt.plot(x, train_loss_history_round, \"b\", label=\"Training Set\")\n",
    "plt.plot(x, val_loss_history_round, \"r\", label=\"Validation Set\")\n",
    "plt.xlabel(\"epoch\")\n",
    "plt.ylabel(\"Loss\")\n",
    "plt.legend()\n",
    "plt.title(f\"Evolution of the loss\")\n",
    "plt.show()"
   ]
  },
  {
   "cell_type": "code",
   "execution_count": 86,
   "id": "aa027721",
   "metadata": {},
   "outputs": [
    {
     "data": {
      "image/png": "[encoded data removed]",
      "text/plain": [
       "<Figure size 1300x700 with 1 Axes>"
      ]
     },
     "metadata": {},
     "output_type": "display_data"
    }
   ],
   "source": [
    "x = range(len(train_loss_history))\n",
    "acc_train_history_round = np.round(acc_train_history, 3)\n",
    "acc_val_history_round = np.round(acc_val_history, 3)\n",
    "\n",
    "plt.figure(figsize=(13, 7))\n",
    "plt.subplot(1, 2, 1)\n",
    "plt.plot(x, acc_train_history_round, \"b\", label=\"Training Set\")\n",
    "plt.plot(x, acc_val_history_round, \"r\", label=\"Validation Set\")\n",
    "plt.xlabel(\"epoch\")\n",
    "plt.ylabel(\"Loss\")\n",
    "plt.legend()\n",
    "plt.title(f\"Evolution of the Accuracy\")\n",
    "plt.show()"
   ]
  },
  {
   "cell_type": "markdown",
   "id": "08163331",
   "metadata": {},
   "source": [
    "# Saving the model"
   ]
  },
  {
   "cell_type": "code",
   "execution_count": 87,
   "id": "36d73ff4",
   "metadata": {},
   "outputs": [],
   "source": [
    "torch.save(model, \"model.pth\")"
   ]
  },
  {
   "cell_type": "code",
   "execution_count": null,
   "id": "4ff615e5",
   "metadata": {},
   "outputs": [],
   "source": []
  }
 ],
 "metadata": {
  "kernelspec": {
   "display_name": "Python 3 (ipykernel)",
   "language": "python",
   "name": "python3"
  },
  "language_info": {
   "codemirror_mode": {
    "name": "ipython",
    "version": 3
   },
   "file_extension": ".py",
   "mimetype": "text/x-python",
   "name": "python",
   "nbconvert_exporter": "python",
   "pygments_lexer": "ipython3",
   "version": "3.10.13"
  }
 },
 "nbformat": 4,
 "nbformat_minor": 5
}
